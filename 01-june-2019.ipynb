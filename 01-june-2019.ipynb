{
 "cells": [
  {
   "cell_type": "markdown",
   "metadata": {},
   "source": [
    "# Day 06- Faculty dvelopment program\n",
    "\n",
    "\n",
    "### Day Objectives\n",
    "* Packages and Modules in Python\n",
    "* Turtle Graphics\n",
    "* File Handling\n",
    "* Python Libraries for Data Processing,Analysis,and Machine Learning\n",
    "  * **Numpy**-Array Processing\n",
    "  *  **Pandas**-Data Analysis\n",
    "  * Matplotlib - Data Visualization\n",
    "  * Scikit-learn-Machine Learning"
   ]
  },
  {
   "cell_type": "markdown",
   "metadata": {},
   "source": [
    "#### Packages and Modules\n",
    "\n",
    "package-collection of Subpackages(Modules) and or python files\n",
    "Subpackage-Collection of Subpackages or Modules\n",
    "Module-Single python files consisting of functions\n",
    "Function-block of code to do the particular task\n",
    "#every python file is considered as module\n",
    "#that python file is emebedded as a package or module"
   ]
  },
  {
   "cell_type": "code",
   "execution_count": null,
   "metadata": {},
   "outputs": [],
   "source": []
  }
 ],
 "metadata": {
  "kernelspec": {
   "display_name": "Python 3",
   "language": "python",
   "name": "python3"
  },
  "language_info": {
   "codemirror_mode": {
    "name": "ipython",
    "version": 3
   },
   "file_extension": ".py",
   "mimetype": "text/x-python",
   "name": "python",
   "nbconvert_exporter": "python",
   "pygments_lexer": "ipython3",
   "version": "3.7.3"
  }
 },
 "nbformat": 4,
 "nbformat_minor": 2
}
